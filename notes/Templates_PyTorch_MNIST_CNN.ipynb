{
 "cells": [
  {
   "cell_type": "markdown",
   "metadata": {},
   "source": [
    "# Mnist with PyTorch"
   ]
  },
  {
   "cell_type": "code",
   "execution_count": 6,
   "metadata": {},
   "outputs": [],
   "source": [
    "import numpy as np # to handle matrix and data operation\n",
    "import pandas as pd # to read csv and handle dataframe\n",
    "\n",
    "import torch\n",
    "import torch.nn as nn\n",
    "import torch.nn.functional as F\n",
    "\n",
    "import matplotlib.pyplot as plt\n",
    "from torchvision import datasets, transforms\n",
    "import torch.optim as optim"
   ]
  },
  {
   "cell_type": "markdown",
   "metadata": {},
   "source": [
    "## Data Loader:"
   ]
  },
  {
   "cell_type": "code",
   "execution_count": 7,
   "metadata": {},
   "outputs": [],
   "source": [
    "batch_size_test, batch_size_train = 64, 64\n",
    "transform = transforms.Compose([transforms.ToTensor(), transforms.Normalize((0.1307,), (0.3081,))]) \n",
    "\n",
    "train_loader = torch.utils.data.DataLoader(datasets.MNIST('/files/', train=True, download=True,transform=transform),\n",
    "                                           batch_size=batch_size_train, shuffle=True)\n",
    "\n",
    "test_loader =  torch.utils.data.DataLoader(datasets.MNIST('/files/', train=False, download=True,transform=transform), \n",
    "                                           batch_size=batch_size_test, shuffle=True)"
   ]
  },
  {
   "cell_type": "markdown",
   "metadata": {},
   "source": [
    "## Model:"
   ]
  },
  {
   "cell_type": "code",
   "execution_count": 8,
   "metadata": {},
   "outputs": [],
   "source": [
    "class Net(nn.Module):\n",
    "    def __init__(self):\n",
    "        super(Net, self).__init__()\n",
    "        self.conv1 = nn.Conv2d(1, 10, kernel_size=5)\n",
    "        self.conv2 = nn.Conv2d(10, 20, kernel_size=5)\n",
    "        self.conv2_drop = nn.Dropout2d()\n",
    "        self.fc1 = nn.Linear(320, 50)\n",
    "        self.fc2 = nn.Linear(50, 10)\n",
    "\n",
    "    def forward(self, x):\n",
    "        x = F.relu(F.max_pool2d(self.conv1(x), 2))\n",
    "        x = F.relu(F.max_pool2d(self.conv2_drop(self.conv2(x)), 2))\n",
    "        x = x.view(-1, 320)\n",
    "        x = F.relu(self.fc1(x))\n",
    "        x = F.dropout(x, training=self.training)\n",
    "        x = self.fc2(x)\n",
    "        return F.log_softmax(x)"
   ]
  },
  {
   "cell_type": "code",
   "execution_count": 14,
   "metadata": {},
   "outputs": [],
   "source": [
    "n_epochs = 3\n",
    "batch_size_train = 64\n",
    "batch_size_test = 1000\n",
    "learning_rate = 0.01\n",
    "momentum = 0.5\n",
    "log_interval = 100\n",
    "\n",
    "\n",
    "network = Net()\n",
    "optimizer = optim.SGD(network.parameters(), lr=learning_rate, momentum=momentum)"
   ]
  },
  {
   "cell_type": "markdown",
   "metadata": {},
   "source": [
    "## Train:"
   ]
  },
  {
   "cell_type": "code",
   "execution_count": 18,
   "metadata": {},
   "outputs": [],
   "source": [
    "def train(epoch):\n",
    "    network.train()\n",
    "    for batch_idx, (data, target) in enumerate(train_loader):\n",
    "        optimizer.zero_grad()\n",
    "        \n",
    "        output = network(data)\n",
    "        loss = F.nll_loss(output, target)\n",
    "        loss.backward()\n",
    "        optimizer.step()\n",
    "        \n",
    "        if batch_idx % log_interval == 0:\n",
    "            print('Train Epoch: {} [{}/{} ({:.0f}%)]\\tLoss: {:.6f}'.format(\n",
    "            epoch, batch_idx * len(data), len(train_loader.dataset),\n",
    "            100. * batch_idx / len(train_loader), loss.item()))\n",
    "            \n",
    "        train_losses.append(loss.item())\n",
    "        train_counter.append((batch_idx*64) + ((epoch-1)*len(train_loader.dataset)))\n",
    "        \n",
    "        #torch.save(network.state_dict(), save_name+'_model.pth')\n",
    "        #torch.save(optimizer.state_dict(), save_name+'_optimizer.pth')"
   ]
  },
  {
   "cell_type": "markdown",
   "metadata": {},
   "source": [
    "## Test:"
   ]
  },
  {
   "cell_type": "code",
   "execution_count": 20,
   "metadata": {},
   "outputs": [],
   "source": [
    "def test():\n",
    "    network.eval()\n",
    "    test_loss = 0\n",
    "    correct = 0\n",
    "    with torch.no_grad():\n",
    "        for data, target in test_loader:\n",
    "            output = network(data)\n",
    "            test_loss += F.nll_loss(output, target, size_average=False).item()\n",
    "            pred = output.data.max(1, keepdim=True)[1]\n",
    "            correct += pred.eq(target.data.view_as(pred)).sum()\n",
    "            \n",
    "        test_loss /= len(test_loader.dataset)\n",
    "        test_losses.append(test_loss)\n",
    "        print('Test set: Avg. Loss: {:.4f}, Accuracy: {}/{} ({:.0f}%)\\n'.format(\n",
    "            test_loss, correct, len(test_loader.dataset),\n",
    "            100. * correct / len(test_loader.dataset)))"
   ]
  },
  {
   "cell_type": "code",
   "execution_count": 21,
   "metadata": {},
   "outputs": [
    {
     "output_type": "stream",
     "name": "stdout",
     "text": "Test set: Avg. Loss: 0.0970, Accuracy: 9694/10000 (97%)\n\nTrain Epoch: 1 [0/60000 (0%)]\tLoss: 0.342209\nTrain Epoch: 1 [6400/60000 (11%)]\tLoss: 0.249683\nTrain Epoch: 1 [12800/60000 (21%)]\tLoss: 0.137283\nTrain Epoch: 1 [19200/60000 (32%)]\tLoss: 0.248723\nTrain Epoch: 1 [25600/60000 (43%)]\tLoss: 0.390595\nTrain Epoch: 1 [32000/60000 (53%)]\tLoss: 0.241265\nTrain Epoch: 1 [38400/60000 (64%)]\tLoss: 0.172911\nTrain Epoch: 1 [44800/60000 (75%)]\tLoss: 0.194119\nTrain Epoch: 1 [51200/60000 (85%)]\tLoss: 0.324381\nTrain Epoch: 1 [57600/60000 (96%)]\tLoss: 0.215002\nTest set: Avg. Loss: 0.0868, Accuracy: 9732/10000 (97%)\n\nTrain Epoch: 2 [0/60000 (0%)]\tLoss: 0.107899\nTrain Epoch: 2 [6400/60000 (11%)]\tLoss: 0.183279\nTrain Epoch: 2 [12800/60000 (21%)]\tLoss: 0.265863\nTrain Epoch: 2 [19200/60000 (32%)]\tLoss: 0.202454\nTrain Epoch: 2 [25600/60000 (43%)]\tLoss: 0.308068\nTrain Epoch: 2 [32000/60000 (53%)]\tLoss: 0.119186\nTrain Epoch: 2 [38400/60000 (64%)]\tLoss: 0.266150\nTrain Epoch: 2 [44800/60000 (75%)]\tLoss: 0.322805\nTrain Epoch: 2 [51200/60000 (85%)]\tLoss: 0.375193\nTrain Epoch: 2 [57600/60000 (96%)]\tLoss: 0.281042\nTest set: Avg. Loss: 0.0724, Accuracy: 9772/10000 (98%)\n\nTrain Epoch: 3 [0/60000 (0%)]\tLoss: 0.284310\nTrain Epoch: 3 [6400/60000 (11%)]\tLoss: 0.150054\nTrain Epoch: 3 [12800/60000 (21%)]\tLoss: 0.320027\nTrain Epoch: 3 [19200/60000 (32%)]\tLoss: 0.256415\nTrain Epoch: 3 [25600/60000 (43%)]\tLoss: 0.167552\nTrain Epoch: 3 [32000/60000 (53%)]\tLoss: 0.313670\nTrain Epoch: 3 [38400/60000 (64%)]\tLoss: 0.167400\nTrain Epoch: 3 [44800/60000 (75%)]\tLoss: 0.107690\nTrain Epoch: 3 [51200/60000 (85%)]\tLoss: 0.285212\nTrain Epoch: 3 [57600/60000 (96%)]\tLoss: 0.157286\nTest set: Avg. Loss: 0.0659, Accuracy: 9788/10000 (98%)\n\n"
    }
   ],
   "source": [
    "train_losses = []\n",
    "test_losses = []\n",
    "test_counter = [i*len(train_loader.dataset) for i in range(n_epochs + 1)]\n",
    "\n",
    "for epoch in range(1, n_epochs + 1):\n",
    "    train(epoch)\n",
    "    test()"
   ]
  },
  {
   "cell_type": "code",
   "execution_count": null,
   "metadata": {},
   "outputs": [],
   "source": []
  },
  {
   "cell_type": "code",
   "execution_count": null,
   "metadata": {},
   "outputs": [],
   "source": []
  },
  {
   "cell_type": "code",
   "execution_count": null,
   "metadata": {},
   "outputs": [],
   "source": []
  }
 ],
 "metadata": {
  "anaconda-cloud": {},
  "kernelspec": {
   "display_name": "CVND",
   "language": "python",
   "name": "cvnd"
  },
  "language_info": {
   "codemirror_mode": {
    "name": "ipython",
    "version": 3
   },
   "file_extension": ".py",
   "mimetype": "text/x-python",
   "name": "python",
   "nbconvert_exporter": "python",
   "pygments_lexer": "ipython3",
   "version": "3.7.4-final"
  }
 },
 "nbformat": 4,
 "nbformat_minor": 4
}